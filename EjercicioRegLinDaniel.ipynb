{
 "cells": [
  {
   "cell_type": "code",
   "execution_count": 55,
   "metadata": {
    "collapsed": true
   },
   "outputs": [],
   "source": [
    "import pandas as pd\n",
    "import numpy as np\n",
    "from sklearn.model_selection import train_test_split\n",
    "from sklearn.linear_model import LinearRegression\n",
    "import matplotlib.pyplot as plt\n",
    "from mpl_toolkits.mplot3d import Axes3D"
   ]
  },
  {
   "cell_type": "code",
   "execution_count": 3,
   "metadata": {},
   "outputs": [
    {
     "data": {
      "text/html": [
       "<div>\n",
       "<style>\n",
       "    .dataframe thead tr:only-child th {\n",
       "        text-align: right;\n",
       "    }\n",
       "\n",
       "    .dataframe thead th {\n",
       "        text-align: left;\n",
       "    }\n",
       "\n",
       "    .dataframe tbody tr th {\n",
       "        vertical-align: top;\n",
       "    }\n",
       "</style>\n",
       "<table border=\"1\" class=\"dataframe\">\n",
       "  <thead>\n",
       "    <tr style=\"text-align: right;\">\n",
       "      <th></th>\n",
       "      <th>X</th>\n",
       "      <th>y</th>\n",
       "    </tr>\n",
       "  </thead>\n",
       "  <tbody>\n",
       "    <tr>\n",
       "      <th>count</th>\n",
       "      <td>1029.000000</td>\n",
       "      <td>1029.000000</td>\n",
       "    </tr>\n",
       "    <tr>\n",
       "      <th>mean</th>\n",
       "      <td>50.008111</td>\n",
       "      <td>32.893917</td>\n",
       "    </tr>\n",
       "    <tr>\n",
       "      <th>std</th>\n",
       "      <td>29.055066</td>\n",
       "      <td>18.083566</td>\n",
       "    </tr>\n",
       "    <tr>\n",
       "      <th>min</th>\n",
       "      <td>0.030369</td>\n",
       "      <td>-4.586608</td>\n",
       "    </tr>\n",
       "    <tr>\n",
       "      <th>25%</th>\n",
       "      <td>25.201087</td>\n",
       "      <td>17.583093</td>\n",
       "    </tr>\n",
       "    <tr>\n",
       "      <th>50%</th>\n",
       "      <td>50.884987</td>\n",
       "      <td>33.564129</td>\n",
       "    </tr>\n",
       "    <tr>\n",
       "      <th>75%</th>\n",
       "      <td>75.636823</td>\n",
       "      <td>48.339811</td>\n",
       "    </tr>\n",
       "    <tr>\n",
       "      <th>max</th>\n",
       "      <td>99.959580</td>\n",
       "      <td>71.762748</td>\n",
       "    </tr>\n",
       "  </tbody>\n",
       "</table>\n",
       "</div>"
      ],
      "text/plain": [
       "                 X            y\n",
       "count  1029.000000  1029.000000\n",
       "mean     50.008111    32.893917\n",
       "std      29.055066    18.083566\n",
       "min       0.030369    -4.586608\n",
       "25%      25.201087    17.583093\n",
       "50%      50.884987    33.564129\n",
       "75%      75.636823    48.339811\n",
       "max      99.959580    71.762748"
      ]
     },
     "execution_count": 3,
     "metadata": {},
     "output_type": "execute_result"
    }
   ],
   "source": [
    "df = pd.read_csv(\"regLin.csv\",header=0)\n",
    "df.describe()"
   ]
  },
  {
   "cell_type": "code",
   "execution_count": 4,
   "metadata": {
    "scrolled": false
   },
   "outputs": [
    {
     "name": "stderr",
     "output_type": "stream",
     "text": [
      "/Users/danielespinosa/gitsome/claseMachineLearning/lib/python2.7/site-packages/sklearn/model_selection/_split.py:2010: FutureWarning: From version 0.21, test_size will always complement train_size unless both are specified.\n",
      "  FutureWarning)\n"
     ]
    }
   ],
   "source": [
    "X_train, X_test, Y_train, Y_test = train_test_split(df[df.columns[0:-1]],df[df.columns[-1]], train_size=0.75)"
   ]
  },
  {
   "cell_type": "markdown",
   "metadata": {},
   "source": [
    "Conviene tratar todo en términos de matrices ya que en este trabajo no estaré utilizando las funciones de las DF de pandas"
   ]
  },
  {
   "cell_type": "code",
   "execution_count": 5,
   "metadata": {
    "collapsed": true
   },
   "outputs": [],
   "source": [
    "X_trainM = X_train.as_matrix()\n",
    "Y_trainM = Y_train.as_matrix()\n",
    "\n",
    "X_testM = X_test.as_matrix()\n",
    "Y_testM = Y_test.as_matrix()"
   ]
  },
  {
   "cell_type": "code",
   "execution_count": 6,
   "metadata": {
    "collapsed": true
   },
   "outputs": [],
   "source": [
    "regressor = LinearRegression(copy_X = True, fit_intercept = True, n_jobs=1, normalize= False)"
   ]
  },
  {
   "cell_type": "code",
   "execution_count": 7,
   "metadata": {},
   "outputs": [
    {
     "name": "stderr",
     "output_type": "stream",
     "text": [
      "/Users/danielespinosa/gitsome/claseMachineLearning/lib/python2.7/site-packages/scipy/linalg/basic.py:1018: RuntimeWarning: internal gelsd driver lwork query error, required iwork dimension not returned. This is likely the result of LAPACK bug 0038, fixed in LAPACK 3.2.2 (released July 21, 2010). Falling back to 'gelss' driver.\n",
      "  warnings.warn(mesg, RuntimeWarning)\n"
     ]
    },
    {
     "data": {
      "text/plain": [
       "LinearRegression(copy_X=True, fit_intercept=True, n_jobs=1, normalize=False)"
      ]
     },
     "execution_count": 7,
     "metadata": {},
     "output_type": "execute_result"
    }
   ],
   "source": [
    "regressor.fit(X_trainM, Y_trainM)"
   ]
  },
  {
   "cell_type": "code",
   "execution_count": 8,
   "metadata": {
    "collapsed": true
   },
   "outputs": [],
   "source": [
    "y = regressor.predict(X_testM)"
   ]
  },
  {
   "cell_type": "markdown",
   "metadata": {
    "collapsed": true
   },
   "source": [
    "#### Esta gráfica es un scatter de los puntos que predice el modelo contra los puntos reales (contra los que no entrenó)"
   ]
  },
  {
   "cell_type": "code",
   "execution_count": 9,
   "metadata": {},
   "outputs": [
    {
     "data": {
      "image/png": "[encoded data removed]",
      "text/plain": [
       "<matplotlib.figure.Figure at 0x1123a1e10>"
      ]
     },
     "metadata": {},
     "output_type": "display_data"
    }
   ],
   "source": [
    "#plot del test contra la regresion que se predijo de train\n",
    "plt.plot(X_test, Y_test, 'ro')\n",
    "#plt.axis([0, 6, 0, 20])\n",
    "plt.plot(X_test, y, 'g-')\n",
    "plt.show()"
   ]
  },
  {
   "cell_type": "markdown",
   "metadata": {},
   "source": [
    "Plottear la curva de error"
   ]
  },
  {
   "cell_type": "code",
   "execution_count": 10,
   "metadata": {
    "collapsed": true
   },
   "outputs": [],
   "source": [
    "#y"
   ]
  },
  {
   "cell_type": "code",
   "execution_count": 11,
   "metadata": {},
   "outputs": [
    {
     "data": {
      "text/plain": [
       "0.60608617222088335"
      ]
     },
     "execution_count": 11,
     "metadata": {},
     "output_type": "execute_result"
    }
   ],
   "source": [
    "#Este es el coeficiente que minimiza la funcion de error cuadrado medio\n",
    "regressor.coef_[0]"
   ]
  },
  {
   "cell_type": "code",
   "execution_count": 12,
   "metadata": {},
   "outputs": [
    {
     "data": {
      "text/plain": [
       "2.562842534084794"
      ]
     },
     "execution_count": 12,
     "metadata": {},
     "output_type": "execute_result"
    }
   ],
   "source": [
    "#Fijamos el intercept a w0, este no lo variaremos por ahora.\n",
    "w0 = regressor.intercept_\n",
    "w0"
   ]
  },
  {
   "cell_type": "markdown",
   "metadata": {},
   "source": [
    "Hacemos un sweep cambiando el coeficiente"
   ]
  },
  {
   "cell_type": "code",
   "execution_count": 13,
   "metadata": {},
   "outputs": [
    {
     "data": {
      "text/plain": [
       "771"
      ]
     },
     "execution_count": 13,
     "metadata": {},
     "output_type": "execute_result"
    }
   ],
   "source": [
    "w1arr = np.linspace(0,4,len(Y_trainM))\n",
    "len(X_trainM)"
   ]
  },
  {
   "cell_type": "code",
   "execution_count": 14,
   "metadata": {
    "collapsed": true
   },
   "outputs": [],
   "source": [
    "#Funcion para calcular el MSE dependiendo de los parametros w0 y w1\n",
    "def calculateError(X,Y,w0,w1):\n",
    "    error = 0\n",
    "    for i in range(0,len(Y)):\n",
    "        yEst = w0 + (w1*X[i])\n",
    "        error += ((yEst-Y[i])**2)\n",
    "\n",
    "    error = error/len(Y)\n",
    "    \n",
    "    return error[0]"
   ]
  },
  {
   "cell_type": "code",
   "execution_count": 15,
   "metadata": {
    "collapsed": true
   },
   "outputs": [],
   "source": [
    "w1Error = []\n",
    "\n",
    "for i in range(0,len(w1arr)):\n",
    "    w1Error.append((calculateError(X_trainM,Y_trainM,w0,w1arr[i])))\n"
   ]
  },
  {
   "cell_type": "code",
   "execution_count": 18,
   "metadata": {
    "scrolled": true
   },
   "outputs": [
    {
     "data": {
      "image/png": "[encoded data removed]",
      "text/plain": [
       "<matplotlib.figure.Figure at 0x1125d7550>"
      ]
     },
     "metadata": {},
     "output_type": "display_data"
    }
   ],
   "source": [
    "plt.plot(w1arr, w1Error, 'b.')\n",
    "plt.show()"
   ]
  },
  {
   "cell_type": "markdown",
   "metadata": {},
   "source": [
    "Podemos también calcular el error para el *intercept*. En este caso, fijemos w1 con el óptimo que la regresión de sklearn había calculado y cambiemos w0."
   ]
  },
  {
   "cell_type": "code",
   "execution_count": 20,
   "metadata": {},
   "outputs": [
    {
     "data": {
      "image/png": "[encoded data removed]",
      "text/plain": [
       "<matplotlib.figure.Figure at 0x1125fdcd0>"
      ]
     },
     "metadata": {},
     "output_type": "display_data"
    }
   ],
   "source": [
    "w1 = regressor.coef_[0]\n",
    "w0arr = np.linspace(0,4,len(Y_trainM))\n",
    "\n",
    "w0Error = []\n",
    "\n",
    "for i in range(0,len(w0arr)):\n",
    "    w0Error.append((calculateError(X_trainM,Y_trainM,w0arr[i],w1)))\n",
    "\n",
    "    \n",
    "plt.plot(w0arr, w0Error, 'g.')\n",
    "plt.show()"
   ]
  },
  {
   "cell_type": "markdown",
   "metadata": {},
   "source": [
    "Por supuesto que se puede hacer las dos optimizaciones al mismo tiempo (y esto es realmente lo que hace la biblioteca de sklearn o cualquier regresión lineal)."
   ]
  },
  {
   "cell_type": "code",
   "execution_count": 41,
   "metadata": {},
   "outputs": [],
   "source": [
    "#Use less points so this doesn't take ages...\n",
    "\n",
    "w0arr = np.linspace(0,4,30)\n",
    "w1arr = np.linspace(0,4,30)\n",
    "\n",
    "bothError = []\n",
    "for i in range(0,len(w0arr)):\n",
    "    bothError.append([])\n",
    "    for j in range(0,len(w1arr)):\n",
    "        bothError[i].append((calculateError(X_trainM,Y_trainM,w0arr[i],w1arr[j])))"
   ]
  },
  {
   "cell_type": "code",
   "execution_count": 39,
   "metadata": {},
   "outputs": [
    {
     "data": {
      "text/plain": [
       "[[1373.8849608101718,\n",
       "  633.01254757898516,\n",
       "  181.18757912990327,\n",
       "  18.410055462927755,\n",
       "  144.67997657805785,\n",
       "  559.997342475295,\n",
       "  1264.362153154636,\n",
       "  2257.774408616086,\n",
       "  3540.2341088596368,\n",
       "  5111.7412538852959,\n",
       "  6972.2958436930712,\n",
       "  9121.8978782829327,\n",
       "  11560.547357654912,\n",
       "  14288.244281808998,\n",
       "  17304.988650745188,\n",
       "  20610.780464463478,\n",
       "  24205.619722963864,\n",
       "  28089.506426246371,\n",
       "  32262.440574310996,\n",
       "  36724.422167157732],\n",
       " [1360.2559834267131,\n",
       "  623.75821549638329,\n",
       "  176.3078923481599,\n",
       "  17.905013982042611,\n",
       "  148.54958039803117,\n",
       "  568.24159159612611,\n",
       "  1276.9810475763254,\n",
       "  2274.7679483386351,\n",
       "  3561.6022938830429,\n",
       "  5137.4840842095637,\n",
       "  7002.413319318186,\n",
       "  9156.3899992089173,\n",
       "  11599.414123881754,\n",
       "  14331.485693336697,\n",
       "  17352.604707573752,\n",
       "  20662.771166592855,\n",
       "  24261.985070394127,\n",
       "  28150.246418977513,\n",
       "  32327.555212342962,\n",
       "  36793.911450490552],\n",
       " [1346.7156487025309,\n",
       "  614.59252607306087,\n",
       "  171.51684822569644,\n",
       "  17.488615160437245,\n",
       "  152.50782687728403,\n",
       "  576.57448337623646,\n",
       "  1289.6885846572957,\n",
       "  2291.8501307204633,\n",
       "  3583.0591215657273,\n",
       "  5163.3155571931084,\n",
       "  7032.6194376025778,\n",
       "  9190.9707627941916,\n",
       "  11638.369532767883,\n",
       "  14374.815747523679,\n",
       "  17400.309407061573,\n",
       "  20714.850511381603,\n",
       "  24318.439060483721,\n",
       "  28211.07505436795,\n",
       "  32392.758493034275,\n",
       "  36863.489376482692],\n",
       " [1333.2639566376322,\n",
       "  605.51547930902018,\n",
       "  166.81444676251257,\n",
       "  17.1608589981116,\n",
       "  156.55471601581675,\n",
       "  584.99601781562808,\n",
       "  1302.484764397545,\n",
       "  2309.0209557615676,\n",
       "  3604.604591907696,\n",
       "  5189.23567283593,\n",
       "  7062.9141985462657,\n",
       "  9225.6401690387193,\n",
       "  11677.413584313263,\n",
       "  14418.23444436992,\n",
       "  17448.102749208698,\n",
       "  20767.01849882958,\n",
       "  24374.981693232541,\n",
       "  28271.992332417594,\n",
       "  32458.050416384787,\n",
       "  36933.155945134131],\n",
       " [1319.9009072320105,\n",
       "  596.52707520425668,\n",
       "  162.20068795860831,\n",
       "  16.921745495065792,\n",
       "  160.69024781362921,\n",
       "  593.50619491429848,\n",
       "  1315.3695867970728,\n",
       "  2326.2804234619516,\n",
       "  3626.238704908938,\n",
       "  5215.2444311380332,\n",
       "  7093.2976021492386,\n",
       "  9260.3982179425511,\n",
       "  11716.546278517959,\n",
       "  14461.741783875463,\n",
       "  17495.984734015085,\n",
       "  20819.275128936824,\n",
       "  24431.612968640635,\n",
       "  28332.9982531266,\n",
       "  32523.430982394668,\n",
       "  37002.911156444738],\n",
       " [1306.6265004856709,\n",
       "  587.62731375877274,\n",
       "  157.67557181398377,\n",
       "  16.771274651299748,\n",
       "  164.91442227072136,\n",
       "  602.10501467224833,\n",
       "  1328.3430518558828,\n",
       "  2343.6285338216212,\n",
       "  3647.9614605694674,\n",
       "  5241.3418320994124,\n",
       "  7123.7696484114667,\n",
       "  9295.2449095056327,\n",
       "  11755.767615381903,\n",
       "  14505.337766040306,\n",
       "  17543.955361480719,\n",
       "  20871.62040170332,\n",
       "  24488.332886708042,\n",
       "  28394.092816494835,\n",
       "  32588.900191063731,\n",
       "  37072.755010414774],\n",
       " [1293.4407363986086,\n",
       "  578.81619497257145,\n",
       "  153.23909832863913,\n",
       "  16.709446466813471,\n",
       "  169.22723938709333,\n",
       "  610.79247708947935,\n",
       "  1341.405159573972,\n",
       "  2361.0652868405709,\n",
       "  3669.7728588892705,\n",
       "  5267.5278757200786,\n",
       "  7154.3303373329918,\n",
       "  9330.1802437280203,\n",
       "  11795.077594905144,\n",
       "  14549.022390864369,\n",
       "  17592.014631605714,\n",
       "  20924.054317129154,\n",
       "  24545.1414474347,\n",
       "  28455.276022522361,\n",
       "  32654.4580423921,\n",
       "  37142.687507043942],\n",
       " [1280.3436149708284,\n",
       "  570.09371884564769,\n",
       "  148.89126750257455,\n",
       "  16.736260941606986,\n",
       "  173.62869916274522,\n",
       "  619.56858216598869,\n",
       "  1354.5559099513378,\n",
       "  2378.5906825187922,\n",
       "  3691.6728998683575,\n",
       "  5293.8025620000262,\n",
       "  7184.9796689137993,\n",
       "  9365.2042206096867,\n",
       "  11834.476217087662,\n",
       "  14592.795658347739,\n",
       "  17640.162544389947,\n",
       "  20976.576875214279,\n",
       "  24602.038650820683,\n",
       "  28516.547871209168,\n",
       "  32720.104536379818,\n",
       "  37212.708646332489],\n",
       " [1267.3351362023261,\n",
       "  561.4598853780044,\n",
       "  144.63207933578954,\n",
       "  16.851718075680264,\n",
       "  178.11880159767659,\n",
       "  628.43332990177817,\n",
       "  1367.7953029879884,\n",
       "  2396.204720856299,\n",
       "  3713.6615835067191,\n",
       "  5320.1658909392518,\n",
       "  7215.7176431538828,\n",
       "  9400.3168401506318,\n",
       "  11873.96348192945,\n",
       "  14636.657568490418,\n",
       "  17688.399099833427,\n",
       "  21029.18807595862,\n",
       "  24659.024496865837,\n",
       "  28577.908362555288,\n",
       "  32785.839673026741,\n",
       "  37282.818428280312],\n",
       " [1254.4153000931042,\n",
       "  552.91469456964137,\n",
       "  140.46153382828447,\n",
       "  17.055817869033323,\n",
       "  182.69754669188799,\n",
       "  637.38672029684847,\n",
       "  1381.1233386839162,\n",
       "  2413.907401853086,\n",
       "  3735.7389098043623,\n",
       "  5346.617862537747,\n",
       "  7246.5442600532333,\n",
       "  9435.5181023508303,\n",
       "  11913.539389430542,\n",
       "  14680.608121292342,\n",
       "  17736.724297936238,\n",
       "  21081.887919362314,\n",
       "  24716.098985570414,\n",
       "  28639.357496560624,\n",
       "  32851.66345233297,\n",
       "  37353.016852887413],\n",
       " [1241.5841066431608,\n",
       "  544.45814642055836,\n",
       "  136.37963098005901,\n",
       "  17.34856032166617,\n",
       "  187.36493444537925,\n",
       "  646.428753351198,\n",
       "  1394.5400170391247,\n",
       "  2431.6987255091562,\n",
       "  3757.9048787612905,\n",
       "  5373.158476795531,\n",
       "  7277.4595196118735,\n",
       "  9470.8080072103367,\n",
       "  11953.203939590898,\n",
       "  14724.647316753579,\n",
       "  17785.138138698323,\n",
       "  21134.676405425198,\n",
       "  24773.262116934191,\n",
       "  28700.895273225244,\n",
       "  32917.575874298476,\n",
       "  37423.303920153761],\n",
       " [1228.8415558524998,\n",
       "  536.09024093075425,\n",
       "  132.38637079111328,\n",
       "  17.729945433578802,\n",
       "  192.12096485814988,\n",
       "  655.55942906482767,\n",
       "  1408.0453380536096,\n",
       "  2449.578691824498,\n",
       "  3780.1594903774967,\n",
       "  5399.7877337125938,\n",
       "  7308.4634218297988,\n",
       "  9506.1865547291272,\n",
       "  11992.957132410536,\n",
       "  14768.77515487404,\n",
       "  17833.640622119699,\n",
       "  21187.553534147402,\n",
       "  24830.513890957227,\n",
       "  28762.521692549202,\n",
       "  32983.576938923281,\n",
       "  37493.679630079401],\n",
       " [1216.1876477211167,\n",
       "  527.81097810023027,\n",
       "  128.48175326144741,\n",
       "  18.19997320477118,\n",
       "  196.96563793020073,\n",
       "  664.77874743773623,\n",
       "  1421.639301727377,\n",
       "  2467.5473007991245,\n",
       "  3802.5027446529789,\n",
       "  5426.5056332889335,\n",
       "  7339.5559667070047,\n",
       "  9541.6537449071729,\n",
       "  12032.798967889439,\n",
       "  14812.99163565382,\n",
       "  17882.231748200316,\n",
       "  21240.519305528924,\n",
       "  24887.854307639638,\n",
       "  28824.236754532398,\n",
       "  33049.666646207355,\n",
       "  37564.143982664347],\n",
       " [1203.6223822490144,\n",
       "  519.62035792898621,\n",
       "  124.66577839106127,\n",
       "  18.758643635243377,\n",
       "  201.89895366153129,\n",
       "  674.08670846992436,\n",
       "  1435.3219080604238,\n",
       "  2485.6045524330279,\n",
       "  3824.9346415877449,\n",
       "  5453.3121755245575,\n",
       "  7370.7371542434767,\n",
       "  9577.2095777445156,\n",
       "  12072.729446027643,\n",
       "  14857.296759092871,\n",
       "  17930.911516940254,\n",
       "  21293.573719569675,\n",
       "  24945.283366981261,\n",
       "  28886.040459174888,\n",
       "  33115.844996150678,\n",
       "  37634.696977908578],\n",
       " [1191.145759436193,\n",
       "  511.51838041702052,\n",
       "  120.93844617995498,\n",
       "  19.405956724995306,\n",
       "  206.92091205214132,\n",
       "  683.48331216139331,\n",
       "  1449.0931570527525,\n",
       "  2503.750446726212,\n",
       "  3847.455181181791,\n",
       "  5480.2073604194566,\n",
       "  7402.0069844392374,\n",
       "  9612.8540532411207,\n",
       "  12112.748566825127,\n",
       "  14901.690525191223,\n",
       "  17979.679928339439,\n",
       "  21346.716776269754,\n",
       "  25002.801068982175,\n",
       "  28947.932806476696,\n",
       "  33182.111988753284,\n",
       "  37705.338615812063],\n",
       " [1178.7577792826492,\n",
       "  503.50504556433589,\n",
       "  117.29975662812852,\n",
       "  20.141912474027055,\n",
       "  212.03151310203177,\n",
       "  692.96855851214161,\n",
       "  1462.9530487043555,\n",
       "  2521.9849836786816,\n",
       "  3870.0643634351054,\n",
       "  5507.191187973639,\n",
       "  7433.3654572942814,\n",
       "  9648.5871713970264,\n",
       "  12152.856330281887,\n",
       "  14946.172933948843,\n",
       "  18028.536982397873,\n",
       "  21399.94847562908,\n",
       "  25060.407413642341,\n",
       "  29009.913796437708,\n",
       "  33248.467624015204,\n",
       "  37776.068896374738],\n",
       " [1166.4584417883862,\n",
       "  495.58035337093122,\n",
       "  113.7497097355817,\n",
       "  20.966510882338561,\n",
       "  217.23075681120079,\n",
       "  702.54244752216982,\n",
       "  1476.9015830152457,\n",
       "  2540.3081632904236,\n",
       "  3892.7621883477077,\n",
       "  5534.2636581870993,\n",
       "  7464.8125728086006,\n",
       "  9684.4089322122054,\n",
       "  12193.052736397922,\n",
       "  14990.743985365718,\n",
       "  18077.482679115634,\n",
       "  21453.268817647648,\n",
       "  25118.102400961805,\n",
       "  29071.983429058073,\n",
       "  33314.911901936372,\n",
       "  37846.88781959685],\n",
       " [1154.2477469534028,\n",
       "  487.74430383680595,\n",
       "  110.28830550231484,\n",
       "  21.879751949929862,\n",
       "  222.51864317965087,\n",
       "  712.20497919147749,\n",
       "  1490.938759985409,\n",
       "  2558.7199855614481,\n",
       "  3915.5486559195938,\n",
       "  5561.4247710598411,\n",
       "  7496.3483309821995,\n",
       "  9720.3193356866741,\n",
       "  12233.337785173235,\n",
       "  15035.403679441912,\n",
       "  18126.517018492668,\n",
       "  21506.677802325587,\n",
       "  25175.886030940557,\n",
       "  29134.14170433762,\n",
       "  33381.444822516867,\n",
       "  37917.795385478137],\n",
       " [1142.125694777699,\n",
       "  479.99689696195958,\n",
       "  106.91554392832766,\n",
       "  22.881635676800947,\n",
       "  227.89517220737991,\n",
       "  721.95615352006439,\n",
       "  1505.064579614854,\n",
       "  2577.2204504917513,\n",
       "  3938.4237661507573,\n",
       "  5588.6745265918626,\n",
       "  7527.9727318150744,\n",
       "  9756.3183818203852,\n",
       "  12273.711476607818,\n",
       "  15080.152016177348,\n",
       "  18175.640000528998,\n",
       "  21560.175429662711,\n",
       "  25233.75830357863,\n",
       "  29196.388622276547,\n",
       "  33448.066385756596,\n",
       "  37988.791594018759],\n",
       " [1130.0922852612753,\n",
       "  472.33813274639419,\n",
       "  103.63142501362033,\n",
       "  23.97216206295181,\n",
       "  233.36034389438942,\n",
       "  731.795970507932,\n",
       "  1519.2790419035803,\n",
       "  2595.8095580813356,\n",
       "  3961.3875190412,\n",
       "  5616.012924783161,\n",
       "  7559.6857753072345,\n",
       "  9792.4060706134223,\n",
       "  12314.173810701712,\n",
       "  15124.988995572074,\n",
       "  18224.851625224575,\n",
       "  21613.761699659193,\n",
       "  25291.719218875893,\n",
       "  29258.724182874696,\n",
       "  33514.776591655595,\n",
       "  38059.876445218622]]"
      ]
     },
     "execution_count": 39,
     "metadata": {},
     "output_type": "execute_result"
    }
   ],
   "source": [
    "bothError"
   ]
  },
  {
   "cell_type": "markdown",
   "metadata": {},
   "source": [
    "Hacemos el plot."
   ]
  },
  {
   "cell_type": "code",
   "execution_count": 54,
   "metadata": {},
   "outputs": [
    {
     "data": {
      "image/png": "[encoded data removed]",
      "text/plain": [
       "<matplotlib.figure.Figure at 0x112931150>"
      ]
     },
     "metadata": {},
     "output_type": "display_data"
    }
   ],
   "source": [
    "fig = plt.figure()\n",
    "ax = fig.add_subplot(111, projection='3d')\n",
    "\n",
    "X, Y = np.meshgrid(w0arr, w1arr)\n",
    "\n",
    "ax.plot_surface(X, Y,bothError,rstride=1, cstride=1,linewidth=0, antialiased=False)\n",
    "plt.show()"
   ]
  }
 ],
 "metadata": {
  "kernelspec": {
   "display_name": "Python 2",
   "language": "python",
   "name": "python2"
  },
  "language_info": {
   "codemirror_mode": {
    "name": "ipython",
    "version": 2
   },
   "file_extension": ".py",
   "mimetype": "text/x-python",
   "name": "python",
   "nbconvert_exporter": "python",
   "pygments_lexer": "ipython2",
   "version": "2.7.13"
  }
 },
 "nbformat": 4,
 "nbformat_minor": 2
}
